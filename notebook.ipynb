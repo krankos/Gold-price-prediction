{
 "cells": [
  {
   "attachments": {},
   "cell_type": "markdown",
   "metadata": {},
   "source": [
    "In this project I'll be using a dataset of gold prices per day from 2000 to 2022. The dataset contains the following columns:\n",
    "- Date\n",
    "- Close\n",
    "- Open\n",
    "- High\n",
    "- Low\n",
    "- Volume\n",
    "- Currency.\n",
    "\n",
    "The goal of this project is to predict the price of gold in the future using the data from the past."
   ]
  },
  {
   "cell_type": "code",
   "execution_count": 10,
   "metadata": {},
   "outputs": [
    {
     "name": "stdout",
     "output_type": "stream",
     "text": [
      "            Date    Open     High      Low   Close  Volume Currency\n",
      "0     2000-01-04   289.5   289.50   280.00   283.7   21621      USD\n",
      "1     2000-01-05   283.7   285.00   281.00   282.1   25448      USD\n",
      "2     2000-01-06   281.6   282.80   280.20   282.4   19055      USD\n",
      "3     2000-01-07   282.5   284.50   282.00   282.9   11266      USD\n",
      "4     2000-01-10   282.4   283.90   281.80   282.7   30603      USD\n",
      "...          ...     ...      ...      ...     ...     ...      ...\n",
      "5698  2022-08-29  1748.4  1757.90  1731.40  1749.7  156220      USD\n",
      "5699  2022-08-30  1749.8  1752.80  1732.90  1736.3  130664      USD\n",
      "5700  2022-08-31  1735.5  1738.00  1720.60  1726.2  176731      USD\n",
      "5701  2022-09-01  1723.0  1723.00  1699.10  1709.3  198618      USD\n",
      "5702  2022-09-02  1707.9  1729.45  1707.05  1723.0       0      USD\n",
      "\n",
      "[5703 rows x 7 columns]\n"
     ]
    }
   ],
   "source": [
    "import os\n",
    "\n",
    "import numpy as np\n",
    "import pandas as pd\n",
    "import matplotlib.pyplot as plt\n",
    "\n",
    "data = pd.read_csv('gold.csv')\n",
    "print(data)"
   ]
  },
  {
   "attachments": {},
   "cell_type": "markdown",
   "metadata": {},
   "source": [
    "Currency column has the same value for all rows, so I'll drop it."
   ]
  },
  {
   "cell_type": "code",
   "execution_count": 11,
   "metadata": {},
   "outputs": [],
   "source": [
    "data_whithout_currency = data.drop('Currency', axis=1)"
   ]
  },
  {
   "cell_type": "code",
   "execution_count": 12,
   "metadata": {},
   "outputs": [
    {
     "data": {
      "text/html": [
       "<div>\n",
       "<style scoped>\n",
       "    .dataframe tbody tr th:only-of-type {\n",
       "        vertical-align: middle;\n",
       "    }\n",
       "\n",
       "    .dataframe tbody tr th {\n",
       "        vertical-align: top;\n",
       "    }\n",
       "\n",
       "    .dataframe thead th {\n",
       "        text-align: right;\n",
       "    }\n",
       "</style>\n",
       "<table border=\"1\" class=\"dataframe\">\n",
       "  <thead>\n",
       "    <tr style=\"text-align: right;\">\n",
       "      <th></th>\n",
       "      <th>Open</th>\n",
       "      <th>High</th>\n",
       "      <th>Low</th>\n",
       "      <th>Close</th>\n",
       "      <th>Volume</th>\n",
       "    </tr>\n",
       "  </thead>\n",
       "  <tbody>\n",
       "    <tr>\n",
       "      <th>count</th>\n",
       "      <td>5703.000000</td>\n",
       "      <td>5703.000000</td>\n",
       "      <td>5703.000000</td>\n",
       "      <td>5703.000000</td>\n",
       "      <td>5703.000000</td>\n",
       "    </tr>\n",
       "    <tr>\n",
       "      <th>mean</th>\n",
       "      <td>1040.382816</td>\n",
       "      <td>1048.339181</td>\n",
       "      <td>1031.863169</td>\n",
       "      <td>1040.298282</td>\n",
       "      <td>139141.669297</td>\n",
       "    </tr>\n",
       "    <tr>\n",
       "      <th>std</th>\n",
       "      <td>518.733377</td>\n",
       "      <td>522.353946</td>\n",
       "      <td>514.455903</td>\n",
       "      <td>518.524020</td>\n",
       "      <td>102537.449058</td>\n",
       "    </tr>\n",
       "    <tr>\n",
       "      <th>min</th>\n",
       "      <td>256.600000</td>\n",
       "      <td>259.400000</td>\n",
       "      <td>255.100000</td>\n",
       "      <td>256.600000</td>\n",
       "      <td>0.000000</td>\n",
       "    </tr>\n",
       "    <tr>\n",
       "      <th>25%</th>\n",
       "      <td>459.850000</td>\n",
       "      <td>463.900000</td>\n",
       "      <td>457.450000</td>\n",
       "      <td>460.500000</td>\n",
       "      <td>52938.500000</td>\n",
       "    </tr>\n",
       "    <tr>\n",
       "      <th>50%</th>\n",
       "      <td>1188.800000</td>\n",
       "      <td>1198.000000</td>\n",
       "      <td>1179.700000</td>\n",
       "      <td>1188.700000</td>\n",
       "      <td>126006.000000</td>\n",
       "    </tr>\n",
       "    <tr>\n",
       "      <th>75%</th>\n",
       "      <td>1381.400000</td>\n",
       "      <td>1392.750000</td>\n",
       "      <td>1368.100000</td>\n",
       "      <td>1383.050000</td>\n",
       "      <td>193109.000000</td>\n",
       "    </tr>\n",
       "    <tr>\n",
       "      <th>max</th>\n",
       "      <td>2076.400000</td>\n",
       "      <td>2089.200000</td>\n",
       "      <td>2049.000000</td>\n",
       "      <td>2069.400000</td>\n",
       "      <td>816531.000000</td>\n",
       "    </tr>\n",
       "  </tbody>\n",
       "</table>\n",
       "</div>"
      ],
      "text/plain": [
       "              Open         High          Low        Close         Volume\n",
       "count  5703.000000  5703.000000  5703.000000  5703.000000    5703.000000\n",
       "mean   1040.382816  1048.339181  1031.863169  1040.298282  139141.669297\n",
       "std     518.733377   522.353946   514.455903   518.524020  102537.449058\n",
       "min     256.600000   259.400000   255.100000   256.600000       0.000000\n",
       "25%     459.850000   463.900000   457.450000   460.500000   52938.500000\n",
       "50%    1188.800000  1198.000000  1179.700000  1188.700000  126006.000000\n",
       "75%    1381.400000  1392.750000  1368.100000  1383.050000  193109.000000\n",
       "max    2076.400000  2089.200000  2049.000000  2069.400000  816531.000000"
      ]
     },
     "execution_count": 12,
     "metadata": {},
     "output_type": "execute_result"
    }
   ],
   "source": [
    "data_whithout_currency.describe()"
   ]
  },
  {
   "cell_type": "code",
   "execution_count": 13,
   "metadata": {},
   "outputs": [
    {
     "name": "stdout",
     "output_type": "stream",
     "text": [
      "<class 'pandas.core.frame.DataFrame'>\n",
      "RangeIndex: 5703 entries, 0 to 5702\n",
      "Data columns (total 7 columns):\n",
      " #   Column    Non-Null Count  Dtype  \n",
      "---  ------    --------------  -----  \n",
      " 0   Date      5703 non-null   object \n",
      " 1   Open      5703 non-null   float64\n",
      " 2   High      5703 non-null   float64\n",
      " 3   Low       5703 non-null   float64\n",
      " 4   Close     5703 non-null   float64\n",
      " 5   Volume    5703 non-null   int64  \n",
      " 6   Currency  5703 non-null   object \n",
      "dtypes: float64(4), int64(1), object(2)\n",
      "memory usage: 312.0+ KB\n"
     ]
    }
   ],
   "source": [
    "data.info()"
   ]
  },
  {
   "attachments": {},
   "cell_type": "markdown",
   "metadata": {},
   "source": [
    "The premise here is based on the principle: Time repeats itself. This principle is very know in the trading field and was first introduced by Charles Dow. Based on this principle we can conclude that the price of a stock will repeat itself in the future, therefore time variables can explain the price variable. Adding to that, the opening price can also affect the close price as it can affect the movement of the market by the supply and demand law.\n",
    "High, Low and Volume variables can only be determined by the and of the day and therefore cannot be used to predict the close price."
   ]
  },
  {
   "cell_type": "code",
   "execution_count": 14,
   "metadata": {},
   "outputs": [
    {
     "data": {
      "text/html": [
       "<div>\n",
       "<style scoped>\n",
       "    .dataframe tbody tr th:only-of-type {\n",
       "        vertical-align: middle;\n",
       "    }\n",
       "\n",
       "    .dataframe tbody tr th {\n",
       "        vertical-align: top;\n",
       "    }\n",
       "\n",
       "    .dataframe thead th {\n",
       "        text-align: right;\n",
       "    }\n",
       "</style>\n",
       "<table border=\"1\" class=\"dataframe\">\n",
       "  <thead>\n",
       "    <tr style=\"text-align: right;\">\n",
       "      <th></th>\n",
       "      <th>Open</th>\n",
       "      <th>Close</th>\n",
       "      <th>Year</th>\n",
       "      <th>Month</th>\n",
       "      <th>Day</th>\n",
       "    </tr>\n",
       "  </thead>\n",
       "  <tbody>\n",
       "    <tr>\n",
       "      <th>0</th>\n",
       "      <td>289.5</td>\n",
       "      <td>283.7</td>\n",
       "      <td>2000</td>\n",
       "      <td>1</td>\n",
       "      <td>4</td>\n",
       "    </tr>\n",
       "    <tr>\n",
       "      <th>1</th>\n",
       "      <td>283.7</td>\n",
       "      <td>282.1</td>\n",
       "      <td>2000</td>\n",
       "      <td>1</td>\n",
       "      <td>5</td>\n",
       "    </tr>\n",
       "    <tr>\n",
       "      <th>2</th>\n",
       "      <td>281.6</td>\n",
       "      <td>282.4</td>\n",
       "      <td>2000</td>\n",
       "      <td>1</td>\n",
       "      <td>6</td>\n",
       "    </tr>\n",
       "    <tr>\n",
       "      <th>3</th>\n",
       "      <td>282.5</td>\n",
       "      <td>282.9</td>\n",
       "      <td>2000</td>\n",
       "      <td>1</td>\n",
       "      <td>7</td>\n",
       "    </tr>\n",
       "    <tr>\n",
       "      <th>4</th>\n",
       "      <td>282.4</td>\n",
       "      <td>282.7</td>\n",
       "      <td>2000</td>\n",
       "      <td>1</td>\n",
       "      <td>10</td>\n",
       "    </tr>\n",
       "  </tbody>\n",
       "</table>\n",
       "</div>"
      ],
      "text/plain": [
       "    Open  Close  Year  Month  Day\n",
       "0  289.5  283.7  2000      1    4\n",
       "1  283.7  282.1  2000      1    5\n",
       "2  281.6  282.4  2000      1    6\n",
       "3  282.5  282.9  2000      1    7\n",
       "4  282.4  282.7  2000      1   10"
      ]
     },
     "execution_count": 14,
     "metadata": {},
     "output_type": "execute_result"
    }
   ],
   "source": [
    "X_ = data_whithout_currency\n",
    "X_ = X_.drop('High', axis=1)\n",
    "X_ = X_.drop('Low', axis=1)\n",
    "X_ = X_.drop('Volume', axis=1)\n",
    "# X_ = X_.drop('Open', axis=1)\n",
    "# encode the date column on 3 columns (year, month, day)\n",
    "X_['Year'] = pd.to_datetime(X_['Date']).dt.year\n",
    "X_['Month'] = pd.to_datetime(X_['Date']).dt.month\n",
    "X_['Day'] = pd.to_datetime(X_['Date']).dt.day\n",
    "X_ = X_.drop('Date', axis=1)\n",
    "X_.head()\n"
   ]
  },
  {
   "cell_type": "code",
   "execution_count": 15,
   "metadata": {},
   "outputs": [],
   "source": [
    "from sklearn.linear_model import LinearRegression\n",
    "\n",
    "model = LinearRegression()"
   ]
  },
  {
   "cell_type": "code",
   "execution_count": 23,
   "metadata": {},
   "outputs": [],
   "source": [
    "variables = X_.columns.drop('Close')\n",
    "y=X_.Close\n",
    "X=X_[variables]"
   ]
  },
  {
   "cell_type": "code",
   "execution_count": 17,
   "metadata": {},
   "outputs": [
    {
     "name": "stdout",
     "output_type": "stream",
     "text": [
      "-232.93226995159603\n",
      "[ 0.99800888  0.11699723 -0.02148676 -0.01313112]\n"
     ]
    }
   ],
   "source": [
    "model.fit(X,y)\n",
    "\n",
    "print (model.intercept_)\n",
    "print (model.coef_)"
   ]
  },
  {
   "cell_type": "code",
   "execution_count": 18,
   "metadata": {},
   "outputs": [
    {
     "name": "stdout",
     "output_type": "stream",
     "text": [
      "1533080543.7231612\n",
      "797322.1646909678\n",
      "1532283221.5584679\n"
     ]
    }
   ],
   "source": [
    "SCT = sum((y - y.mean())**2) # Sum of squares total\n",
    "print(SCT)\n",
    "SCR=sum((y - model.predict(X))**2) # Sum of squares of residuals\n",
    "print(SCR)\n",
    "SCE=sum((model.predict(X) - y.mean())**2) # Sum of squares of explained\n",
    "print(SCE)"
   ]
  },
  {
   "cell_type": "code",
   "execution_count": 19,
   "metadata": {},
   "outputs": [
    {
     "name": "stdout",
     "output_type": "stream",
     "text": [
      "0.9994799215423105\n"
     ]
    }
   ],
   "source": [
    "# r squared\n",
    "print(SCE/SCT)"
   ]
  },
  {
   "attachments": {},
   "cell_type": "markdown",
   "metadata": {},
   "source": [
    "R²= 99.99%. This means that the model explains the data very well."
   ]
  },
  {
   "cell_type": "code",
   "execution_count": 20,
   "metadata": {},
   "outputs": [
    {
     "data": {
      "image/png": "[encoded data removed]",
      "text/plain": [
       "<Figure size 640x480 with 1 Axes>"
      ]
     },
     "metadata": {},
     "output_type": "display_data"
    }
   ],
   "source": [
    "plt.plot(y, model.predict(X), '.')\n",
    "plt.show()"
   ]
  },
  {
   "attachments": {},
   "cell_type": "markdown",
   "metadata": {},
   "source": [
    "The graph shows a very good linear regression between the predicted and the actual close price."
   ]
  },
  {
   "cell_type": "code",
   "execution_count": 21,
   "metadata": {},
   "outputs": [
    {
     "data": {
      "image/png": "[encoded data removed]",
      "text/plain": [
       "<Figure size 640x480 with 1 Axes>"
      ]
     },
     "metadata": {},
     "output_type": "display_data"
    }
   ],
   "source": [
    "plt.plot(y, y-model.predict(X), '.')\n",
    "plt.show()"
   ]
  },
  {
   "attachments": {},
   "cell_type": "markdown",
   "metadata": {},
   "source": [
    "The error is small, which means that the model is very accurate."
   ]
  },
  {
   "cell_type": "code",
   "execution_count": 24,
   "metadata": {},
   "outputs": [
    {
     "data": {
      "text/html": [
       "<table class=\"simpletable\">\n",
       "<caption>OLS Regression Results</caption>\n",
       "<tr>\n",
       "  <th>Dep. Variable:</th>          <td>Close</td>      <th>  R-squared (uncentered):</th>      <td>   1.000</td> \n",
       "</tr>\n",
       "<tr>\n",
       "  <th>Model:</th>                   <td>OLS</td>       <th>  Adj. R-squared (uncentered):</th> <td>   1.000</td> \n",
       "</tr>\n",
       "<tr>\n",
       "  <th>Method:</th>             <td>Least Squares</td>  <th>  F-statistic:       </th>          <td>1.376e+07</td>\n",
       "</tr>\n",
       "<tr>\n",
       "  <th>Date:</th>             <td>Sun, 14 May 2023</td> <th>  Prob (F-statistic):</th>           <td>  0.00</td>  \n",
       "</tr>\n",
       "<tr>\n",
       "  <th>Time:</th>                 <td>10:50:40</td>     <th>  Log-Likelihood:    </th>          <td> -22182.</td> \n",
       "</tr>\n",
       "<tr>\n",
       "  <th>No. Observations:</th>      <td>  5703</td>      <th>  AIC:               </th>          <td>4.437e+04</td>\n",
       "</tr>\n",
       "<tr>\n",
       "  <th>Df Residuals:</th>          <td>  5699</td>      <th>  BIC:               </th>          <td>4.440e+04</td>\n",
       "</tr>\n",
       "<tr>\n",
       "  <th>Df Model:</th>              <td>     4</td>      <th>                     </th>              <td> </td>    \n",
       "</tr>\n",
       "<tr>\n",
       "  <th>Covariance Type:</th>      <td>nonrobust</td>    <th>                     </th>              <td> </td>    \n",
       "</tr>\n",
       "</table>\n",
       "<table class=\"simpletable\">\n",
       "<tr>\n",
       "    <td></td>       <th>coef</th>     <th>std err</th>      <th>t</th>      <th>P>|t|</th>  <th>[0.025</th>    <th>0.975]</th>  \n",
       "</tr>\n",
       "<tr>\n",
       "  <th>Open</th>  <td>    0.9993</td> <td>    0.000</td> <td> 3288.627</td> <td> 0.000</td> <td>    0.999</td> <td>    1.000</td>\n",
       "</tr>\n",
       "<tr>\n",
       "  <th>Year</th>  <td>    0.0005</td> <td>    0.000</td> <td>    1.867</td> <td> 0.062</td> <td>-2.51e-05</td> <td>    0.001</td>\n",
       "</tr>\n",
       "<tr>\n",
       "  <th>Month</th> <td>   -0.0289</td> <td>    0.046</td> <td>   -0.630</td> <td> 0.528</td> <td>   -0.119</td> <td>    0.061</td>\n",
       "</tr>\n",
       "<tr>\n",
       "  <th>Day</th>   <td>   -0.0134</td> <td>    0.018</td> <td>   -0.750</td> <td> 0.453</td> <td>   -0.049</td> <td>    0.022</td>\n",
       "</tr>\n",
       "</table>\n",
       "<table class=\"simpletable\">\n",
       "<tr>\n",
       "  <th>Omnibus:</th>       <td>1474.593</td> <th>  Durbin-Watson:     </th> <td>   2.020</td> \n",
       "</tr>\n",
       "<tr>\n",
       "  <th>Prob(Omnibus):</th>  <td> 0.000</td>  <th>  Jarque-Bera (JB):  </th> <td>24574.685</td>\n",
       "</tr>\n",
       "<tr>\n",
       "  <th>Skew:</th>           <td>-0.792</td>  <th>  Prob(JB):          </th> <td>    0.00</td> \n",
       "</tr>\n",
       "<tr>\n",
       "  <th>Kurtosis:</th>       <td>13.045</td>  <th>  Cond. No.          </th> <td>    668.</td> \n",
       "</tr>\n",
       "</table><br/><br/>Notes:<br/>[1] R² is computed without centering (uncentered) since the model does not contain a constant.<br/>[2] Standard Errors assume that the covariance matrix of the errors is correctly specified."
      ],
      "text/latex": [
       "\\begin{center}\n",
       "\\begin{tabular}{lclc}\n",
       "\\toprule\n",
       "\\textbf{Dep. Variable:}    &      Close       & \\textbf{  R-squared (uncentered):}      &     1.000   \\\\\n",
       "\\textbf{Model:}            &       OLS        & \\textbf{  Adj. R-squared (uncentered):} &     1.000   \\\\\n",
       "\\textbf{Method:}           &  Least Squares   & \\textbf{  F-statistic:       }          & 1.376e+07   \\\\\n",
       "\\textbf{Date:}             & Sun, 14 May 2023 & \\textbf{  Prob (F-statistic):}          &     0.00    \\\\\n",
       "\\textbf{Time:}             &     10:50:40     & \\textbf{  Log-Likelihood:    }          &   -22182.   \\\\\n",
       "\\textbf{No. Observations:} &        5703      & \\textbf{  AIC:               }          & 4.437e+04   \\\\\n",
       "\\textbf{Df Residuals:}     &        5699      & \\textbf{  BIC:               }          & 4.440e+04   \\\\\n",
       "\\textbf{Df Model:}         &           4      & \\textbf{                     }          &             \\\\\n",
       "\\textbf{Covariance Type:}  &    nonrobust     & \\textbf{                     }          &             \\\\\n",
       "\\bottomrule\n",
       "\\end{tabular}\n",
       "\\begin{tabular}{lcccccc}\n",
       "               & \\textbf{coef} & \\textbf{std err} & \\textbf{t} & \\textbf{P$> |$t$|$} & \\textbf{[0.025} & \\textbf{0.975]}  \\\\\n",
       "\\midrule\n",
       "\\textbf{Open}  &       0.9993  &        0.000     &  3288.627  &         0.000        &        0.999    &        1.000     \\\\\n",
       "\\textbf{Year}  &       0.0005  &        0.000     &     1.867  &         0.062        &    -2.51e-05    &        0.001     \\\\\n",
       "\\textbf{Month} &      -0.0289  &        0.046     &    -0.630  &         0.528        &       -0.119    &        0.061     \\\\\n",
       "\\textbf{Day}   &      -0.0134  &        0.018     &    -0.750  &         0.453        &       -0.049    &        0.022     \\\\\n",
       "\\bottomrule\n",
       "\\end{tabular}\n",
       "\\begin{tabular}{lclc}\n",
       "\\textbf{Omnibus:}       & 1474.593 & \\textbf{  Durbin-Watson:     } &     2.020  \\\\\n",
       "\\textbf{Prob(Omnibus):} &   0.000  & \\textbf{  Jarque-Bera (JB):  } & 24574.685  \\\\\n",
       "\\textbf{Skew:}          &  -0.792  & \\textbf{  Prob(JB):          } &      0.00  \\\\\n",
       "\\textbf{Kurtosis:}      &  13.045  & \\textbf{  Cond. No.          } &      668.  \\\\\n",
       "\\bottomrule\n",
       "\\end{tabular}\n",
       "%\\caption{OLS Regression Results}\n",
       "\\end{center}\n",
       "\n",
       "Notes: \\newline\n",
       " [1] R² is computed without centering (uncentered) since the model does not contain a constant. \\newline\n",
       " [2] Standard Errors assume that the covariance matrix of the errors is correctly specified."
      ],
      "text/plain": [
       "<class 'statsmodels.iolib.summary.Summary'>\n",
       "\"\"\"\n",
       "                                 OLS Regression Results                                \n",
       "=======================================================================================\n",
       "Dep. Variable:                  Close   R-squared (uncentered):                   1.000\n",
       "Model:                            OLS   Adj. R-squared (uncentered):              1.000\n",
       "Method:                 Least Squares   F-statistic:                          1.376e+07\n",
       "Date:                Sun, 14 May 2023   Prob (F-statistic):                        0.00\n",
       "Time:                        10:50:40   Log-Likelihood:                         -22182.\n",
       "No. Observations:                5703   AIC:                                  4.437e+04\n",
       "Df Residuals:                    5699   BIC:                                  4.440e+04\n",
       "Df Model:                           4                                                  \n",
       "Covariance Type:            nonrobust                                                  \n",
       "==============================================================================\n",
       "                 coef    std err          t      P>|t|      [0.025      0.975]\n",
       "------------------------------------------------------------------------------\n",
       "Open           0.9993      0.000   3288.627      0.000       0.999       1.000\n",
       "Year           0.0005      0.000      1.867      0.062   -2.51e-05       0.001\n",
       "Month         -0.0289      0.046     -0.630      0.528      -0.119       0.061\n",
       "Day           -0.0134      0.018     -0.750      0.453      -0.049       0.022\n",
       "==============================================================================\n",
       "Omnibus:                     1474.593   Durbin-Watson:                   2.020\n",
       "Prob(Omnibus):                  0.000   Jarque-Bera (JB):            24574.685\n",
       "Skew:                          -0.792   Prob(JB):                         0.00\n",
       "Kurtosis:                      13.045   Cond. No.                         668.\n",
       "==============================================================================\n",
       "\n",
       "Notes:\n",
       "[1] R² is computed without centering (uncentered) since the model does not contain a constant.\n",
       "[2] Standard Errors assume that the covariance matrix of the errors is correctly specified.\n",
       "\"\"\""
      ]
     },
     "execution_count": 24,
     "metadata": {},
     "output_type": "execute_result"
    }
   ],
   "source": [
    "from statsmodels.regression.linear_model import OLS\n",
    "model = OLS(y, X)\n",
    "results = model.fit()\n",
    "su = results.summary()\n",
    "su"
   ]
  },
  {
   "attachments": {},
   "cell_type": "markdown",
   "metadata": {},
   "source": [
    "The Open variable is the only one with a valid t value (3288.627), while time variables have a t value between 2 and -2 meaning that they're coeffients can be considered as 0. This means that the time variables are not statistically significant. H0 is accepted for all time variables."
   ]
  },
  {
   "cell_type": "code",
   "execution_count": 26,
   "metadata": {},
   "outputs": [
    {
     "name": "stdout",
     "output_type": "stream",
     "text": [
      "                            OLS Regression Results                            \n",
      "==============================================================================\n",
      "Dep. Variable:                  Close   R-squared:                       0.999\n",
      "Model:                            OLS   Adj. R-squared:                  0.999\n",
      "Method:                 Least Squares   F-statistic:                 2.738e+06\n",
      "Date:                Sun, 14 May 2023   Prob (F-statistic):               0.00\n",
      "Time:                        10:50:59   Log-Likelihood:                -22179.\n",
      "No. Observations:                5703   AIC:                         4.437e+04\n",
      "Df Residuals:                    5698   BIC:                         4.440e+04\n",
      "Df Model:                           4                                         \n",
      "Covariance Type:            nonrobust                                         \n",
      "==============================================================================\n",
      "                 coef    std err          t      P>|t|      [0.025      0.975]\n",
      "------------------------------------------------------------------------------\n",
      "Intercept   -232.9323    110.812     -2.102      0.036    -450.165     -15.699\n",
      "Day           -0.0131      0.018     -0.734      0.463      -0.048       0.022\n",
      "Month         -0.0215      0.046     -0.467      0.641      -0.112       0.069\n",
      "Year           0.1170      0.055      2.111      0.035       0.008       0.226\n",
      "Open           0.9980      0.001   1429.334      0.000       0.997       0.999\n",
      "==============================================================================\n",
      "Omnibus:                     1441.552   Durbin-Watson:                   2.019\n",
      "Prob(Omnibus):                  0.000   Jarque-Bera (JB):            24007.735\n",
      "Skew:                          -0.764   Prob(JB):                         0.00\n",
      "Kurtosis:                      12.935   Cond. No.                     1.61e+06\n",
      "==============================================================================\n",
      "\n",
      "Notes:\n",
      "[1] Standard Errors assume that the covariance matrix of the errors is correctly specified.\n",
      "[2] The condition number is large, 1.61e+06. This might indicate that there are\n",
      "strong multicollinearity or other numerical problems.\n"
     ]
    }
   ],
   "source": [
    "import statsmodels.formula.api as smf\n",
    "regr = smf.ols(formula='Close ~ Day + Month + Year + Open', data=X_).fit()\n",
    "print(regr.summary())"
   ]
  },
  {
   "attachments": {},
   "cell_type": "markdown",
   "metadata": {},
   "source": [
    "The open variable is statistically significant. H0 is rejected for the open variable. It has the highest t value. We can use it to predict the close price."
   ]
  }
 ],
 "metadata": {
  "kernelspec": {
   "display_name": "Python 3",
   "language": "python",
   "name": "python3"
  },
  "language_info": {
   "codemirror_mode": {
    "name": "ipython",
    "version": 3
   },
   "file_extension": ".py",
   "mimetype": "text/x-python",
   "name": "python",
   "nbconvert_exporter": "python",
   "pygments_lexer": "ipython3",
   "version": "3.10.2"
  },
  "orig_nbformat": 4
 },
 "nbformat": 4,
 "nbformat_minor": 2
}
